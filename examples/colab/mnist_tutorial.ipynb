{
  "cells": [
    {
      "cell_type": "markdown",
      "metadata": {
        "id": "Q810J1oD2ePl"
      },
      "source": [
        "# Training a model\n",
        "\n",
        "We start this tutorial on influence functions with training a classification model on MNIST. We follow the example from the [Flax](https://flax.readthedocs.io/en/latest/) library. For convenience we reproduce the training code in this colab so you can follow it step by step. We have modified the code to illustrate how to use multiple accelerators, i.e. we work with `jax.lax.pmap` instead of `jax.jit`."
      ]
    },
    {
      "cell_type": "code",
      "execution_count": 5,
      "metadata": {
        "id": "QBKDpLb8jvKI"
      },
      "outputs": [],
      "source": [
        "from jax_influence import batch_utils"
      ]
    },
    {
      "cell_type": "code",
      "execution_count": 6,
      "metadata": {
        "id": "Lw7nbDFc2coo"
      },
      "outputs": [
        {
          "name": "stderr",
          "output_type": "stream",
          "text": [
            "/home/maulik/anaconda3/envs/jax-influence/lib/python3.10/site-packages/tqdm/auto.py:21: TqdmWarning: IProgress not found. Please update jupyter and ipywidgets. See https://ipywidgets.readthedocs.io/en/stable/user_install.html\n",
            "  from .autonotebook import tqdm as notebook_tqdm\n"
          ]
        }
      ],
      "source": [
        "from flax import linen as nn\n",
        "import flax\n",
        "from flax.metrics import tensorboard\n",
        "from flax.training import train_state\n",
        "import jax\n",
        "import jax.numpy as jnp\n",
        "import ml_collections\n",
        "import numpy as np\n",
        "import optax\n",
        "import tensorflow as tf\n",
        "import tensorflow_datasets as tfds\n",
        "import os"
      ]
    },
    {
      "cell_type": "code",
      "execution_count": 7,
      "metadata": {
        "id": "4F1vkX37t3Hh"
      },
      "outputs": [
        {
          "name": "stderr",
          "output_type": "stream",
          "text": [
            "2023-11-27 16:59:02.134753: W tensorflow/core/common_runtime/gpu/gpu_device.cc:2256] Cannot dlopen some GPU libraries. Please make sure the missing libraries mentioned above are installed properly if you would like to use GPU. Follow the guide at https://www.tensorflow.org/install/gpu for how to download and setup the required libraries for your platform.\n",
            "Skipping registering GPU devices...\n"
          ]
        }
      ],
      "source": [
        "# Enable eager exeuction and mask accelerators from TensorFlow.\n",
        "# We use TensorFlow only for the data pipeline.\n",
        "tf.compat.v1.enable_eager_execution()\n",
        "tf.config.experimental.set_visible_devices([], 'GPU')"
      ]
    },
    {
      "cell_type": "code",
      "execution_count": 8,
      "metadata": {
        "id": "TT45KGNj4WZZ"
      },
      "outputs": [],
      "source": [
        "#@title Directory for training.\n",
        "workdir = 'flax_mnist_training' #@param {type:\"string\"}"
      ]
    },
    {
      "cell_type": "code",
      "execution_count": 9,
      "metadata": {
        "id": "5DPvgIqc0zJ9"
      },
      "outputs": [],
      "source": [
        "class CNN(nn.Module):\n",
        "  \"\"\"A simple CNN model.\"\"\"\n",
        "\n",
        "  @nn.compact\n",
        "  def __call__(self, x):\n",
        "    x = nn.Conv(features=32, kernel_size=(3, 3))(x)\n",
        "    x = nn.relu(x)\n",
        "    x = nn.avg_pool(x, window_shape=(2, 2), strides=(2, 2))\n",
        "    x = nn.Conv(features=64, kernel_size=(3, 3))(x)\n",
        "    x = nn.relu(x)\n",
        "    x = nn.avg_pool(x, window_shape=(2, 2), strides=(2, 2))\n",
        "    x = x.reshape((x.shape[0], -1))  # flatten\n",
        "    x = nn.Dense(features=256)(x)\n",
        "    x = nn.relu(x)\n",
        "    x = nn.Dense(features=10)(x)\n",
        "    x = nn.log_softmax(x)\n",
        "    return x\n",
        "\n",
        "\n",
        "def cross_entropy_loss(logits, labels):\n",
        "  return -jnp.mean(jnp.sum(labels * logits, axis=-1))\n",
        "\n",
        "\n",
        "def per_example_cross_entropy_loss(logits, labels):\n",
        "  xentropy = jnp.sum(labels * logits, axis=-1)\n",
        "  return xentropy\n",
        "\n",
        "\n",
        "def compute_metrics(logits, labels):\n",
        "  one_hot = jax.nn.one_hot(labels, 10)\n",
        "  loss = cross_entropy_loss(logits, one_hot)\n",
        "  accuracy = jnp.mean(jnp.argmax(logits, -1) == labels)\n",
        "  metrics = {\n",
        "      'loss': loss,\n",
        "      'accuracy': accuracy,\n",
        "  }\n",
        "  return metrics"
      ]
    },
    {
      "cell_type": "code",
      "execution_count": 10,
      "metadata": {
        "id": "YMroLr_S3Hm-"
      },
      "outputs": [],
      "source": [
        "def apply_model(state, images, labels):\n",
        "  \"\"\"Computes gradients, loss and accuracy for a single batch.\"\"\"\n",
        "  one_hot = jax.nn.one_hot(labels, 10)\n",
        "  def loss_fn(params):\n",
        "    logits = CNN().apply({'params': params}, images)\n",
        "    loss = cross_entropy_loss(logits=logits, labels=one_hot)\n",
        "    return loss, logits\n",
        "  grad_fn = jax.value_and_grad(loss_fn, has_aux=True)\n",
        "  (_, logits), grads = grad_fn(state.params)\n",
        "  grads = jax.lax.pmean(grads, 'batch')\n",
        "  metrics = compute_metrics(logits, labels)\n",
        "  metrics = jax.tree_map(lambda x: jax.lax.pmean(x, 'batch'), metrics)\n",
        "  return grads, metrics['loss'], metrics['accuracy']\n",
        "\n",
        "def update_model(state, grads):\n",
        "  return state.apply_gradients(grads=grads)"
      ]
    },
    {
      "cell_type": "code",
      "execution_count": 11,
      "metadata": {
        "id": "N4CbWo-W31ll"
      },
      "outputs": [],
      "source": [
        "def train_epoch(state, train_ds, batch_size, rng):\n",
        "  \"\"\"Train for a single epoch.\"\"\"\n",
        "  train_ds_size = len(train_ds['image'])\n",
        "  steps_per_epoch = train_ds_size // batch_size\n",
        "\n",
        "  perms = jax.random.permutation(rng, len(train_ds['image']))\n",
        "  perms = perms[:steps_per_epoch * batch_size]  # Skip incomplete batch.\n",
        "  perms = perms.reshape((steps_per_epoch, batch_size))\n",
        "\n",
        "  epoch_loss = []\n",
        "  epoch_accuracy = []\n",
        "\n",
        "  for perm in perms:\n",
        "    batch = {'image': train_ds['image'][perm, ...], 'label': train_ds['label'][perm, ...]}\n",
        "    batch = batch_utils.shard(batch)\n",
        "    grads, loss, accuracy = jax.pmap(apply_model, axis_name='batch')(state, batch['image'], batch['label'])\n",
        "    state = jax.pmap(update_model, axis_name='batch')(state, grads)\n",
        "    epoch_loss.append(loss)\n",
        "    epoch_accuracy.append(accuracy)\n",
        "  train_loss = np.mean(epoch_loss)\n",
        "  train_accuracy = np.mean(epoch_accuracy)\n",
        "  return state, train_loss, train_accuracy\n",
        "\n",
        "\n",
        "def get_datasets():\n",
        "  \"\"\"Load MNIST train and test datasets into memory.\"\"\"\n",
        "  ds_builder = tfds.builder('mnist')\n",
        "  ds_builder.download_and_prepare()\n",
        "  train_ds = tfds.as_numpy(ds_builder.as_dataset(split='train', batch_size=-1))\n",
        "  test_ds = tfds.as_numpy(ds_builder.as_dataset(split='test', batch_size=-1))\n",
        "  train_ds['image'] = jnp.float32(train_ds['image']) / 255.\n",
        "  test_ds['image'] = jnp.float32(test_ds['image']) / 255.\n",
        "  return train_ds, test_ds\n",
        "\n",
        "\n",
        "def create_train_state(rng, config):\n",
        "  \"\"\"Creates initial `TrainState`.\"\"\"\n",
        "  cnn = CNN()\n",
        "  params = cnn.init(rng, jnp.ones([1, 28, 28, 1]))['params']\n",
        "  tx = optax.sgd(config.learning_rate, config.momentum)\n",
        "  return train_state.TrainState.create(\n",
        "      apply_fn=cnn.apply, params=params, tx=tx)"
      ]
    },
    {
      "cell_type": "code",
      "execution_count": 12,
      "metadata": {
        "id": "FSNv2ZY14BDe"
      },
      "outputs": [],
      "source": [
        "def train_and_evaluate(config: ml_collections.ConfigDict,\n",
        "                       workdir: str) -> train_state.TrainState:\n",
        "  \"\"\"Execute model training and evaluation loop.\n",
        "\n",
        "  Args:\n",
        "    config: Hyperparameter configuration for training and evaluation.\n",
        "    workdir: Directory where the tensorboard summaries are written to.\n",
        "\n",
        "  Returns:\n",
        "    The train state (which includes the `.params`).\n",
        "  \"\"\"\n",
        "  train_ds, test_ds = get_datasets()\n",
        "  rng = jax.random.PRNGKey(0)\n",
        "\n",
        "  summary_writer = tensorboard.SummaryWriter(workdir)\n",
        "  summary_writer.hparams(dict(config))\n",
        "\n",
        "  rng, init_rng = jax.random.split(rng)\n",
        "  state = create_train_state(init_rng, config)\n",
        "  state = flax.jax_utils.replicate(state)\n",
        "  test_batch = {'image':  test_ds['image'], 'label':  test_ds['label']}\n",
        "  test_batch = batch_utils.shard(test_batch)\n",
        "  for epoch in range(1, config.num_epochs + 1):\n",
        "    rng, input_rng = jax.random.split(rng)\n",
        "    state, train_loss, train_accuracy = train_epoch(state, train_ds,\n",
        "                                                    config.batch_size,\n",
        "                                                    input_rng)\n",
        "\n",
        "    _, test_loss, test_accuracy = jax.pmap(apply_model, axis_name='batch')(state, test_batch['image'], test_batch['label'])\n",
        "    test_loss = np.mean(test_loss)\n",
        "    test_accuracy = np.mean(test_accuracy)\n",
        "    print(\n",
        "        'epoch:% 3d, train_loss: %.4f, train_accuracy: %.2f, test_loss: %.4f, test_accuracy: %.2f'\n",
        "        % (epoch, train_loss, train_accuracy * 100, test_loss,\n",
        "           test_accuracy * 100))\n",
        "\n",
        "    summary_writer.scalar('train_loss', train_loss, epoch)\n",
        "    summary_writer.scalar('train_accuracy', train_accuracy, epoch)\n",
        "    summary_writer.scalar('test_loss', test_loss, epoch)\n",
        "    summary_writer.scalar('test_accuracy', test_accuracy, epoch)\n",
        "\n",
        "  summary_writer.flush()\n",
        "  return state"
      ]
    },
    {
      "cell_type": "code",
      "execution_count": 13,
      "metadata": {
        "id": "rZ1bil7V5X1P"
      },
      "outputs": [],
      "source": [
        "def get_config():\n",
        "  \"\"\"Get the default hyperparameter configuration.\"\"\"\n",
        "  config = ml_collections.ConfigDict()\n",
        "\n",
        "  config.learning_rate = 0.1\n",
        "  config.momentum = 0.9\n",
        "  config.batch_size = 128\n",
        "  config.num_epochs = 2\n",
        "  return config"
      ]
    },
    {
      "cell_type": "code",
      "execution_count": 14,
      "metadata": {
        "executionInfo": {
          "elapsed": 23525,
          "status": "ok",
          "timestamp": 1641895032023,
          "user": {
            "displayName": "Andrea Schioppa",
            "photoUrl": "https://lh3.googleusercontent.com/a-/AOh14GiW7AK6Z3ln1Mf6p-P9rYBrdplMHJzWkfBJddUXUQ=s64",
            "userId": "15169126470040635187"
          },
          "user_tz": -60
        },
        "id": "kpwMgPWn5hT7",
        "outputId": "f8708e77-d256-4e8b-f7b5-37e4ecc9a94c"
      },
      "outputs": [
        {
          "name": "stdout",
          "output_type": "stream",
          "text": [
            "epoch:  1, train_loss: 0.2552, train_accuracy: 92.31, test_loss: 0.0500, test_accuracy: 98.24\n",
            "epoch:  2, train_loss: 0.0524, train_accuracy: 98.35, test_loss: 0.0394, test_accuracy: 98.64\n"
          ]
        }
      ],
      "source": [
        "final_state = train_and_evaluate(get_config(), workdir)"
      ]
    },
    {
      "cell_type": "code",
      "execution_count": 15,
      "metadata": {
        "id": "D_udWst05lqT"
      },
      "outputs": [],
      "source": [
        "unrep_state = flax.jax_utils.unreplicate(final_state)\n",
        "with tf.io.gfile.GFile(os.path.join(workdir, 'trained_params.flax'), 'wb') as f:\n",
        "  f.write(flax.serialization.to_bytes(unrep_state.params)) "
      ]
    },
    {
      "cell_type": "markdown",
      "metadata": {
        "id": "lC4ljHKSw0vW"
      },
      "source": [
        "# Running the Arnoldi Iteration\n",
        "\n",
        "In this step we run the Arnoldi Iteration on the MNIST data. We will load the trained model and distill the top 100 projectors."
      ]
    },
    {
      "cell_type": "code",
      "execution_count": 16,
      "metadata": {
        "id": "4RVBfTvQyfjO"
      },
      "outputs": [],
      "source": [
        "from jax_influence import arnoldi\n",
        "from jax_influence import batch_utils\n",
        "\n",
        "from jax_influence import linalg_utils\n",
        "from jax_influence import function_factory"
      ]
    },
    {
      "cell_type": "code",
      "execution_count": 17,
      "metadata": {
        "id": "g_tTG2c4x3nl"
      },
      "outputs": [],
      "source": [
        "# We first create an infinite iterator for the training dataset.\n",
        "@tf.function\n",
        "def normalize_image(record):\n",
        "  out = record.copy()\n",
        "  out['image'] = tf.cast(out['image'], 'float32') / 255.\n",
        "  return out \n",
        "\n",
        "train_it = iter(tfds.builder('mnist').as_dataset(split='train').map(normalize_image).repeat().batch(256*10))\n",
        "# Here we take care of converting tf.Tensor to jnp.array.\n",
        "train_it = batch_utils.BatchIterator(train_it, [batch_utils.maybe_convert_to_array])"
      ]
    },
    {
      "cell_type": "code",
      "execution_count": 18,
      "metadata": {
        "id": "FmH8_UL66O6d"
      },
      "outputs": [],
      "source": [
        "# Load trained parameters.\n",
        "with tf.io.gfile.GFile(os.path.join(workdir, 'trained_params.flax'), 'rb') as f:\n",
        "  params = flax.serialization.msgpack_restore(f.read())\n",
        "  # Flax likes the parameters to be stored in a Frozen dictionary.\n",
        "  params = flax.core.FrozenDict(params)"
      ]
    },
    {
      "cell_type": "code",
      "execution_count": 19,
      "metadata": {
        "id": "Wq_x0uXzyWH5"
      },
      "outputs": [],
      "source": [
        "# We now need to define a loss function to be used to estimate the model's\n",
        "# Hessian.\n",
        "def loss_fn(params, batch):\n",
        "  labels = batch['label']\n",
        "  images = batch['image']\n",
        "  one_hot = jax.nn.one_hot(labels, 10)\n",
        "  logits = CNN().apply({'params': params}, images)\n",
        "  loss = cross_entropy_loss(logits=logits, labels=one_hot)\n",
        "  return loss"
      ]
    },
    {
      "cell_type": "code",
      "execution_count": 20,
      "metadata": {
        "id": "KhU4QNm-zTur"
      },
      "outputs": [],
      "source": [
        "# Create the HVP (Hessian-Vector Product) estimator.\n",
        "\n",
        "# First create the HVP step on a single batch.\n",
        "# Here we do the full model parameters so we pass params_select_fn=None.\n",
        "# Set the mean_across_hosts to True as we write code for multiple devices.\n",
        "hvp_step = function_factory.create_hvp_on_sample(loss_fn, mean_across_hosts=True)\n",
        "# A batch consists of 2560 images but to make the computation less intensive we\n",
        "# split it into 10 micro batches.\n",
        "hvp_step = function_factory.create_accumulator(hvp_step, num_micro_batches=10, do_average=True)\n",
        "hvp_step = jax.pmap(hvp_step, 'batch')\n",
        "# To create the estimator we now take the step, and bind the parameters and the training data iterator.\n",
        "hvp_est_fn = function_factory.create_hvp_estimator(hvp_step, handle_p_mapping=True, params=params, data_iterator=train_it)"
      ]
    },
    {
      "cell_type": "code",
      "execution_count": 21,
      "metadata": {
        "id": "0uedOZCZ3XF8"
      },
      "outputs": [],
      "source": [
        "# Create a random vector to start the Arnoldi iteration.\n",
        "start_params = linalg_utils.random_initialization(params, seed=jax.random.PRNGKey(12))"
      ]
    },
    {
      "cell_type": "code",
      "execution_count": 22,
      "metadata": {
        "id": "1kY8y8E7zpuG"
      },
      "outputs": [],
      "source": [
        "# Perform the Arnoldi iteration; we save the intermediate results on the host RAM in order to not\n",
        "# fill the accelerators RAM, hence move_to_host=True.\n",
        "arnoldi_result = arnoldi.arnoldi_iter(hvp_est_fn, linalg_utils.inner_product, params, n_iters=200, move_to_host=True)"
      ]
    },
    {
      "cell_type": "code",
      "execution_count": 23,
      "metadata": {
        "id": "PIVRNH4N3yW5"
      },
      "outputs": [],
      "source": [
        "# Distill the result of the Arnoldi iteration into eigenvalues and eigenvectors.\n",
        "eigens = arnoldi.distill(arnoldi_result, top_k=100)"
      ]
    },
    {
      "cell_type": "code",
      "execution_count": 24,
      "metadata": {
        "id": "8Dmeek2n5Bgj"
      },
      "outputs": [],
      "source": [
        "# Save the distilled eigenvalues/vectors.\n",
        "with tf.io.gfile.GFile(os.path.join(workdir, 'projectors.flax'), 'wb') as f:\n",
        "  f.write(flax.serialization.to_bytes(eigens))"
      ]
    },
    {
      "cell_type": "markdown",
      "metadata": {
        "id": "Y8dlsDatwz7e"
      },
      "source": [
        "# Influence estimation\n",
        "In this step we show how to use the obtained projectors to compute influence. We consider two cases: self-influence for the test data and influence of the training data on the test data."
      ]
    },
    {
      "cell_type": "code",
      "execution_count": 25,
      "metadata": {
        "id": "a9bnugAa29ED"
      },
      "outputs": [],
      "source": [
        "from jax_influence import utils\n",
        "from sklearn import metrics\n",
        "import matplotlib.pyplot as plt"
      ]
    },
    {
      "cell_type": "code",
      "execution_count": 26,
      "metadata": {
        "id": "UWtilO_NwzSr"
      },
      "outputs": [],
      "source": [
        "# (Re)-load trained parameters.\n",
        "with tf.io.gfile.GFile(os.path.join(workdir, 'trained_params.flax'), 'rb') as f:\n",
        "  params = flax.serialization.msgpack_restore(f.read())\n",
        "  # Flax likes the parameters to be stored in a Frozen dictionary.\n",
        "  params = flax.core.FrozenDict(params)"
      ]
    },
    {
      "cell_type": "code",
      "execution_count": 27,
      "metadata": {
        "id": "S7fsnAQN8qVV"
      },
      "outputs": [],
      "source": [
        "train_ds, test_ds = get_datasets()"
      ]
    },
    {
      "cell_type": "code",
      "execution_count": 28,
      "metadata": {
        "executionInfo": {
          "elapsed": 996,
          "status": "ok",
          "timestamp": 1641895484520,
          "user": {
            "displayName": "Andrea Schioppa",
            "photoUrl": "https://lh3.googleusercontent.com/a-/AOh14GiW7AK6Z3ln1Mf6p-P9rYBrdplMHJzWkfBJddUXUQ=s64",
            "userId": "15169126470040635187"
          },
          "user_tz": -60
        },
        "id": "ZmOOJKF2xoyN",
        "outputId": "0aeabca3-1c37-4720-abb2-95359b627424"
      },
      "outputs": [
        {
          "name": "stdout",
          "output_type": "stream",
          "text": [
            "% of mislabeled data: 0.2068\n"
          ]
        }
      ],
      "source": [
        "# We corrupt about 20% of the labels in the test dataset.\n",
        "seed = jax.random.PRNGKey(15)\n",
        "seed1, seed2 = jax.random.split(seed)\n",
        "flip_label = jax.random.uniform(seed1, test_ds['label'].shape) < .23\n",
        "random_label = jax.random.choice(seed2, a=10, shape=test_ds['label'].shape)\n",
        "new_label = jnp.where(flip_label, random_label, test_ds['label'])\n",
        "new_label = np.array(new_label)\n",
        "is_mislabeled = (new_label != test_ds['label']).astype('int32')\n",
        "print('% of mislabeled data:', np.mean(is_mislabeled))\n",
        "test_ds['label'] = new_label"
      ]
    },
    {
      "cell_type": "code",
      "execution_count": 29,
      "metadata": {
        "id": "KSC72-673i7Q"
      },
      "outputs": [],
      "source": [
        "# We load the projections from the previous step and use the top 20 eigenvalues.\n",
        "# We discard negative eigenvalues sorting on the value instead of the absolute value: use_abs=False.\n",
        "eigval, eigvec = utils.get_eigvals_eigvecs(os.path.join(workdir, 'projectors.flax'), eigvals_slice=(0,20), use_abs=False)"
      ]
    },
    {
      "cell_type": "code",
      "execution_count": 30,
      "metadata": {
        "id": "4ozfD6N7xt59"
      },
      "outputs": [],
      "source": [
        "# We now need to define a loss function which is per_example.\n",
        "def per_example_loss_fn(params, batch):\n",
        "  labels = batch['label']\n",
        "  images = batch['image']\n",
        "  one_hot = jax.nn.one_hot(labels, 10)\n",
        "  logits = CNN().apply({'params': params}, images)\n",
        "  loss = per_example_cross_entropy_loss(logits=logits, labels=one_hot)\n",
        "  return loss"
      ]
    },
    {
      "cell_type": "code",
      "execution_count": 31,
      "metadata": {
        "id": "z7J4NxlLyuuv"
      },
      "outputs": [],
      "source": [
        "# To compute the projections we need to construct the Jacobian-Vector Product (JVP) function on each example.\n",
        "jvp_fn = function_factory.create_jvp_on_each_example(per_example_loss_fn)\n",
        "jvp_fn = jax.pmap(jvp_fn, axis_name='batch')"
      ]
    },
    {
      "cell_type": "code",
      "execution_count": 32,
      "metadata": {
        "id": "MRnV1ATK5b9n"
      },
      "outputs": [],
      "source": [
        "train_ds_sharded = batch_utils.shard(train_ds)\n",
        "test_ds_sharded = batch_utils.shard(test_ds)"
      ]
    },
    {
      "cell_type": "code",
      "execution_count": 33,
      "metadata": {
        "id": "XDL3WDVN6PDA"
      },
      "outputs": [],
      "source": [
        "eigvec_rep = flax.jax_utils.replicate(eigvec)\n",
        "params_rep = flax.jax_utils.replicate(params)"
      ]
    },
    {
      "cell_type": "code",
      "execution_count": 34,
      "metadata": {
        "id": "se3fz25N6Yre"
      },
      "outputs": [],
      "source": [
        "projections_test = jnp.zeros((test_ds['image'].shape[0], len(eigvec_rep)))\n",
        "for i, eigvec in enumerate(eigvec_rep):\n",
        "  prj = jvp_fn(params_rep, eigvec, test_ds_sharded)\n",
        "  prj = prj.flatten()\n",
        "  projections_test = projections_test.at[:, i].set(prj)"
      ]
    },
    {
      "cell_type": "code",
      "execution_count": 35,
      "metadata": {
        "id": "NuvtEBiY7JQ6"
      },
      "outputs": [],
      "source": [
        "# This code attempts the computation on the full train data. This should work\n",
        "# on TPUv3. If you get OOM errors use the code in next cell.\n",
        "projections_train = jnp.zeros((train_ds['image'].shape[0], len(eigvec_rep)))\n",
        "for i, eigvec in enumerate(eigvec_rep):\n",
        "  prj = jvp_fn(params_rep, eigvec, train_ds_sharded)\n",
        "  prj = prj.flatten()\n",
        "  projections_train = projections_train.at[:, i].set(prj)"
      ]
    },
    {
      "cell_type": "code",
      "execution_count": 36,
      "metadata": {
        "id": "Xf3ykNoCHpy6"
      },
      "outputs": [],
      "source": [
        "# The code here assumes train_ds will be split into batches. Use this code\n",
        "# if your accelerator memory is not enought to process the whole train data.\n",
        "num_splits = 5\n",
        "split_size = train_ds['image'].shape[0]//num_splits\n",
        "projections_train = [jnp.zeros((split_size, len(eigvec_rep))) for _ in range(num_splits)]\n",
        "for split in range(num_splits):\n",
        "  for i, eigvec in enumerate(eigvec_rep):\n",
        "    min_idx = split * split_size\n",
        "    max_idx = (split+1)*split_size\n",
        "    sliced = jax.tree_map(lambda x: x[:,min_idx:max_idx], train_ds_sharded)\n",
        "    prj = jvp_fn(params_rep, eigvec, sliced)\n",
        "    prj = prj.flatten()\n",
        "    projections_train[split] = projections_train[split].at[:, i].set(prj)\n",
        "projections_train = np.concatenate(projections_train)"
      ]
    },
    {
      "cell_type": "code",
      "execution_count": 37,
      "metadata": {
        "executionInfo": {
          "elapsed": 82,
          "status": "ok",
          "timestamp": 1641895509515,
          "user": {
            "displayName": "Andrea Schioppa",
            "photoUrl": "https://lh3.googleusercontent.com/a-/AOh14GiW7AK6Z3ln1Mf6p-P9rYBrdplMHJzWkfBJddUXUQ=s64",
            "userId": "15169126470040635187"
          },
          "user_tz": -60
        },
        "id": "oUvc5QrV7QFz",
        "outputId": "6d96317c-a143-445e-958f-f31a6ffb62db"
      },
      "outputs": [
        {
          "name": "stdout",
          "output_type": "stream",
          "text": [
            "Self-influence AUC: 0.9978825090639879\n",
            "Self-influece AP: 0.9871889736466293\n"
          ]
        }
      ],
      "source": [
        "# Let us try to see how well self-influence performs at recalling the mislabeled points.\n",
        "self_influence = jnp.einsum('bd,d,bd -> b', projections_test, 1.0/eigval, projections_test)\n",
        "print('Self-influence AUC:', metrics.roc_auc_score(is_mislabeled, self_influence))\n",
        "print('Self-influece AP:', metrics.average_precision_score(is_mislabeled, self_influence))"
      ]
    },
    {
      "cell_type": "code",
      "execution_count": 38,
      "metadata": {
        "id": "hlGE-dyD7l04"
      },
      "outputs": [],
      "source": [
        "# Let us pick a mislabeled test point.\n",
        "# Here we normalize the influence by the projections norm as discussed in the\n",
        "# paper.\n",
        "test_id = np.where(is_mislabeled)[0][45]\n",
        "norm = jnp.einsum('bi,bi->b', projections_train, projections_train)\n",
        "norm = jnp.sqrt(1/(norm+1e-6))\n",
        "influence_norm = jnp.einsum('b, bi,i,i->b', norm, projections_train, projections_test[test_id], 1/eigval)\n",
        "proponents = jnp.argsort(-influence_norm)[:10]\n",
        "opponents = jnp.argsort(influence_norm)[:10]"
      ]
    },
    {
      "cell_type": "code",
      "execution_count": 39,
      "metadata": {
        "id": "adTuPkUG8Hh5"
      },
      "outputs": [],
      "source": [
        "def show_image(img, ax=None, title=None, cmap=None, fontsize=12):\n",
        "  \"\"\"Shows a single image.\"\"\"\n",
        "  if ax is None:\n",
        "    ax = plt.gca()\n",
        "  ax.imshow(img[...], cmap=cmap)\n",
        "  if title:\n",
        "    ax.set_xlabel(title, fontsize=fontsize)\n",
        "  ax.set_xticks([])\n",
        "  ax.set_yticks([])"
      ]
    },
    {
      "cell_type": "code",
      "execution_count": 40,
      "metadata": {
        "id": "RvfOHNBX_M_Y"
      },
      "outputs": [],
      "source": [
        "def show_image_list(list_images, explain_image, list_titles=None, grid=False, figsize=(15, 20), fontsize=14, \n",
        "                    cols = [\"Proponents\", \"Opponents\"]):\n",
        "    '''\n",
        "    Shows a grid of images, where each image is a Numpy array. The images can be either\n",
        "    RGB or grayscale.\n",
        "\n",
        "    Parameters:\n",
        "    ----------\n",
        "    images: list\n",
        "        List of the images to be displayed.\n",
        "    list_titles: list or None\n",
        "        Optional list of titles to be shown for each image.\n",
        "    grid: boolean\n",
        "        If True, show a grid over each image\n",
        "    num_cols: int\n",
        "        Number of columns to show.\n",
        "    figsize: tuple of width, height\n",
        "        Value to be passed to pyplot.figure()\n",
        "    fontsize: int\n",
        "        Fontsize.\n",
        "    '''\n",
        "\n",
        "\n",
        "    def retrieve_image(img_id, is_test=False):\n",
        "      data = train_ds\n",
        "      if is_test:\n",
        "        data = test_ds\n",
        "      return data['image'][img_id]\n",
        "\n",
        "    def retrieve_title(img_id, is_test=False):\n",
        "      data = train_ds\n",
        "      if is_test:\n",
        "        data = test_ds\n",
        "      return str(data['label'][img_id])\n",
        "\n",
        "    num_cols  = len(list_images)\n",
        "    num_rows  = len(list_images[0])\n",
        "\n",
        "    # Create a grid of subplots.\n",
        "    fig, axes = plt.subplots(num_rows, num_cols+1, figsize=figsize)\n",
        "    show_image(retrieve_image(explain_image, is_test=True), ax=axes[int(num_rows/2), 0], title=None, cmap=\"Greys\")\n",
        "    axes[int(num_rows/2), 0].set_title(\"Image to explain: \" + retrieve_title(explain_image, is_test=True), fontsize=fontsize)\n",
        "    axes[int(num_rows/2), 0].tick_params(axis='both', which='both', bottom=False, left = False, top=False, labelbottom=False, labelleft = False)\n",
        "    axes[int(num_rows/2), 0].grid(grid)\n",
        "    axes[int(num_rows/2), 0].set_aspect('equal')\n",
        "    for i in range(num_rows):\n",
        "      if i is not int(num_rows/2):\n",
        "        axes[i, 0].set_visible(False)\n",
        "\n",
        "    for ax, col in zip(axes[0][1:], cols):\n",
        "      ax.set_title(col, fontsize=fontsize)\n",
        "\n",
        "    axes[0,1].set_ylabel(\"Top 1\", rotation=0, fontsize=fontsize, labelpad = 100)\n",
        "    axes[num_rows-1,1].set_ylabel(\"Top 5\", rotation=0, fontsize=fontsize, labelpad = 100)\n",
        "\n",
        "    for i in range(num_rows):\n",
        "      for j in range(num_cols):\n",
        "\n",
        "          img    = list_images[j][i]\n",
        "          cmap = \"Blues\"\n",
        "          if j >= 1:\n",
        "            cmap = \"Reds\"\n",
        "          \n",
        "          show_image(retrieve_image(img), ax=axes[i, j+1], title=retrieve_title(img), cmap=cmap, fontsize=fontsize)\n",
        "          axes[i, j+1].tick_params(axis='both', which='both', bottom=False, left = False, top=False, labelbottom=False, labelleft = False)\n",
        "         \n",
        "          axes[i, j+1].grid(grid)\n",
        "          axes[i, j+1].set_aspect('equal')\n",
        "        # Create list of axes for easy iteration.\n",
        "    if isinstance(axes, np.ndarray):\n",
        "        list_axes = list(axes.flat)\n",
        "    else:\n",
        "        list_axes = [axes]\n",
        "    plt.subplots_adjust(wspace=0.1, hspace=0.1)\n",
        "    plt.savefig('proponents_opponents.png')"
      ]
    },
    {
      "cell_type": "code",
      "execution_count": 41,
      "metadata": {
        "colab": {
          "height": 1000
        },
        "executionInfo": {
          "elapsed": 1007,
          "status": "ok",
          "timestamp": 1641895523832,
          "user": {
            "displayName": "Andrea Schioppa",
            "photoUrl": "https://lh3.googleusercontent.com/a-/AOh14GiW7AK6Z3ln1Mf6p-P9rYBrdplMHJzWkfBJddUXUQ=s64",
            "userId": "15169126470040635187"
          },
          "user_tz": -60
        },
        "id": "cPrR-ilU_2Mo",
        "outputId": "6cbbd4db-cf5e-495b-a999-8feb0b81282a"
      },
      "outputs": [
        {
          "data": {
            "image/png": "[encoded data removed]",
            "text/plain": [
              "<Figure size 1500x2000 with 15 Axes>"
            ]
          },
          "metadata": {},
          "output_type": "display_data"
        }
      ],
      "source": [
        "list_images = [proponents[:5], opponents[:5]]\n",
        "show_image_list(list_images, test_id)\n"
      ]
    }
  ],
  "metadata": {
    "colab": {
      "collapsed_sections": [],
      "last_runtime": {
        "build_target": "//learning/deepmind/public/tools/ml_python:ml_notebook",
        "kind": "private"
      },
      "name": "mnist_tutorial.ipynb",
      "provenance": [
        {
          "file_id": "13OlNjwyQrTdDQ715D5QcU4XQs14tVRdD",
          "timestamp": 1641900346812
        },
        {
          "file_id": "1ZvJQnDahFXwCbxbEyc3QG_72_4iZDwUe",
          "timestamp": 1637862754194
        }
      ]
    },
    "kernelspec": {
      "display_name": "Python 3",
      "name": "python3"
    },
    "language_info": {
      "codemirror_mode": {
        "name": "ipython",
        "version": 3
      },
      "file_extension": ".py",
      "mimetype": "text/x-python",
      "name": "python",
      "nbconvert_exporter": "python",
      "pygments_lexer": "ipython3",
      "version": "3.10.0"
    }
  },
  "nbformat": 4,
  "nbformat_minor": 0
}
